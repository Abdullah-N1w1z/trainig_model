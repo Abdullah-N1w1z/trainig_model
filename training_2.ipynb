{
 "cells": [
  {
   "cell_type": "code",
   "execution_count": 1,
   "id": "4d5748fa",
   "metadata": {},
   "outputs": [],
   "source": [
    "import os\n",
    "import pandas as pd\n",
    "import sklearn\n",
    "from xgboost import XGBClassifier\n",
    "from sklearn.metrics import classification_report, accuracy_score"
   ]
  },
  {
   "cell_type": "code",
   "execution_count": 2,
   "id": "57f4154b",
   "metadata": {},
   "outputs": [],
   "source": [
    "import glob\n",
    "import pandas as pd\n",
    "import os\n",
    "\n",
    "csv_files = glob.glob('stock_features/*.csv')\n",
    "df_list = []\n",
    "\n",
    "for file in csv_files:\n",
    "    df = pd.read_csv(file)\n",
    "    \n",
    "    # Extract stock symbol from file name (e.g., 'AAPL.csv' → 'AAPL')\n",
    "    symbol = os.path.basename(file).replace('.csv', '')\n",
    "    \n",
    "    # Add symbol column\n",
    "    df['symbol'] = symbol\n",
    "    \n",
    "    df_list.append(df)\n",
    "\n",
    "# Combine all DataFrames\n",
    "df = pd.concat(df_list, ignore_index=True)\n"
   ]
  },
  {
   "cell_type": "code",
   "execution_count": 3,
   "id": "72152dd4",
   "metadata": {},
   "outputs": [],
   "source": [
    "df['Future_Close'] = df.groupby('symbol')['Close'].shift(-1)\n",
    "df['Target'] = (df['Future_Close'] > df['Close']).astype(int)"
   ]
  },
  {
   "cell_type": "code",
   "execution_count": 4,
   "id": "513775e5",
   "metadata": {},
   "outputs": [],
   "source": [
    "essential_cols = [\n",
    "    'Future_Close',  # Needed to compute Target\n",
    "    'return_1d', 'return_5d', 'log_return',\n",
    "    'sma_20', \n",
    "    'ema_9', 'ema_26',\n",
    "    'RSI_14', 'RSI_30',\n",
    "    'roc_10', 'slope_10',\n",
    "    'rolling_std_10', 'rolling_std_20',\n",
    "    'atr_14',\n",
    "    'bollinger_high', 'bollinger_low', 'bb_width',\n",
    "    'volume_change_1d', 'volume_spike',\n",
    "    'obv',\n",
    "    'candle_body', 'upper_wick', 'lower_wick', 'candle_range', 'body_ratio', 'doji_flag',\n",
    "    'close_lag1', 'close_lag2', 'close_lag3','close_lag4', 'close_lag5',\n",
    "    'return_lag1', 'return_lag2', 'return_lag3','return_lag4', 'return_lag5',\n",
    "]\n",
    "\n",
    "# Drop rows where any essential value is missing\n",
    "df.dropna(subset=essential_cols, inplace=True)\n"
   ]
  },
  {
   "cell_type": "code",
   "execution_count": 5,
   "id": "490fc68a",
   "metadata": {},
   "outputs": [],
   "source": [
    "\n",
    "features = ['return_1d', 'return_5d', 'return_10d', 'log_return',\n",
    "            'sma_20', 'sma_50','sma_200',\n",
    "            'ema_9', 'ema_26', 'ema_50',\n",
    "            'macd_9', 'macd_signal_9', 'macd_hist_9',\n",
    "            'roc_10', 'slope_10', 'rolling_std_10','rolling_std_20','rolling_std_50',\n",
    "            'atr_14', 'RSI_14', 'RSI_30',\n",
    "            'bollinger_high', 'bollinger_low', 'bb_width',\n",
    "            'zscore_20', 'volume_change_1d', 'volume_avg_20','volume_spike',\n",
    "            'obv', 'OBV_100', 'OBV_50',\n",
    "            'candle_body','upper_wick', 'lower_wick' ,'candle_range','body_ratio','doji_flag',\n",
    "            'close_lag1', 'close_lag2', 'close_lag3','close_lag4', 'close_lag5',\n",
    "            'return_lag1', 'return_lag2', 'return_lag3','return_lag4', 'return_lag5',\n",
    "            'Stoch_Osc_14', 'Stoch_Signal_14',\n",
    "            'fib_382', 'fib_500', 'fib_618' ]\n"
   ]
  },
  {
   "cell_type": "code",
   "execution_count": 6,
   "id": "f29ad3b1",
   "metadata": {},
   "outputs": [],
   "source": [
    "train_list = []\n",
    "test_list = []\n",
    "\n",
    "for symbol, group in df.groupby('symbol'):\n",
    "    group = group.sort_values('Date')  # ensure time order\n",
    "    split_idx = int(len(group) * 0.8)\n",
    "    \n",
    "    train_list.append(group.iloc[:split_idx])\n",
    "    test_list.append(group.iloc[split_idx:])\n",
    "\n",
    "# Combine all stocks' splits\n",
    "train_df = pd.concat(train_list)\n",
    "test_df = pd.concat(test_list)\n",
    "\n",
    "# Final features/labels\n",
    "X_train = train_df[features]\n",
    "y_train = train_df['Target']\n",
    "\n",
    "X_test = test_df[features]\n",
    "y_test = test_df['Target']\n"
   ]
  },
  {
   "cell_type": "code",
   "execution_count": 7,
   "id": "ff9e4018",
   "metadata": {},
   "outputs": [
    {
     "name": "stdout",
     "output_type": "stream",
     "text": [
      "Training data shape: (65604, 52), (65604,)\n",
      "Testing data shape: (16434, 52), (16434,)\n"
     ]
    }
   ],
   "source": [
    "print(f\"Training data shape: {X_train.shape}, {y_train.shape}\")\n",
    "print(f\"Testing data shape: {X_test.shape}, {y_test.shape}\")"
   ]
  },
  {
   "cell_type": "code",
   "execution_count": 8,
   "id": "0a70f7b6",
   "metadata": {},
   "outputs": [],
   "source": [
    "model = XGBClassifier(objective='binary:logistic',\n",
    "                      eval_metric='logloss',\n",
    "                      use_label_encoder=False, # Suppress the warning\n",
    "                      n_estimators=100,      # Number of boosting rounds (trees)\n",
    "                      learning_rate=0.1,     # Step size shrinkage to prevent overfitting\n",
    "                      max_depth=3,           # Maximum depth of a tree\n",
    "                      subsample=0.8,         # Subsample ratio of the training instance\n",
    "                      colsample_bytree=0.8,  # Subsample ratio of columns when constructing each tree\n",
    "                      random_state=42)       # For reproducibility\n",
    "\n",
    "# Train the model\n"
   ]
  },
  {
   "cell_type": "code",
   "execution_count": 9,
   "id": "63362c71",
   "metadata": {},
   "outputs": [
    {
     "name": "stderr",
     "output_type": "stream",
     "text": [
      "/Users/muhammadabdullah/Documents/XGBoost/env1/lib/python3.10/site-packages/xgboost/training.py:183: UserWarning: [21:04:49] WARNING: /Users/runner/work/xgboost/xgboost/src/learner.cc:738: \n",
      "Parameters: { \"use_label_encoder\" } are not used.\n",
      "\n",
      "  bst.update(dtrain, iteration=i, fobj=obj)\n"
     ]
    },
    {
     "name": "stdout",
     "output_type": "stream",
     "text": [
      "XGBoost model trained successfully!\n"
     ]
    }
   ],
   "source": [
    "model.fit(X_train, y_train)\n",
    "print(\"XGBoost model trained successfully!\")"
   ]
  },
  {
   "cell_type": "code",
   "execution_count": 12,
   "id": "36867d23",
   "metadata": {},
   "outputs": [
    {
     "name": "stdout",
     "output_type": "stream",
     "text": [
      "\n",
      "--- Model Evaluation ---\n",
      "Accuracy: 0.5120\n",
      "\n",
      "Classification Report:\n",
      "              precision    recall  f1-score   support\n",
      "\n",
      "           0       0.46      0.24      0.32      7651\n",
      "           1       0.53      0.75      0.62      8783\n",
      "\n",
      "    accuracy                           0.51     16434\n",
      "   macro avg       0.49      0.49      0.47     16434\n",
      "weighted avg       0.50      0.51      0.48     16434\n",
      "\n"
     ]
    }
   ],
   "source": [
    "# Make predictions on the test set\n",
    "y_pred = model.predict(X_test)\n",
    "y_pred_proba = model.predict_proba(X_test)[:, 1] # Probabilities for the positive class (Bullish)\n",
    "# print (f\"Predictions made on the test set: {len(y_pred)} samples\")\n",
    "# print (f\"Predicted probabilities for the positive class: {y_pred_proba[:5]}...\")  # Display first 5 probabilities\n",
    "print(\"\\n--- Model Evaluation ---\")\n",
    "# Evaluate the model\n",
    "accuracy = accuracy_score(y_test, y_pred)\n",
    "print(f\"Accuracy: {accuracy:.4f}\")\n",
    "\n",
    "# Print a detailed classification report\n",
    "print(\"\\nClassification Report:\")\n",
    "print(classification_report(y_test, y_pred))"
   ]
  },
  {
   "cell_type": "code",
   "execution_count": 11,
   "id": "31bfac98",
   "metadata": {},
   "outputs": [
    {
     "name": "stdout",
     "output_type": "stream",
     "text": [
      "    Stock  Prediction  Probability_Up\n",
      "27     VZ           1          0.5364\n",
      "9    SBUX           1          0.5227\n",
      "15    RTX           1          0.5224\n",
      "12   AMZN           1          0.5204\n",
      "25  GOOGL           1          0.5199\n",
      "13     KO           1          0.5192\n",
      "5     BAC           1          0.5190\n",
      "0    CSCO           1          0.5185\n",
      "8     LOW           1          0.5182\n",
      "31    WMT           1          0.5174\n",
      "26    PFE           1          0.5150\n",
      "21     GE           1          0.5147\n",
      "11    MCD           1          0.5127\n",
      "17    CVX           1          0.5114\n",
      "23    JPM           1          0.5083\n",
      "2    GILD           1          0.5080\n",
      "19    WFC           1          0.5063\n",
      "4       T           1          0.5032\n",
      "6     PEP           1          0.5003\n",
      "16    XOM           0          0.4991\n",
      "20    DIS           0          0.4987\n",
      "30   AAPL           0          0.4983\n",
      "32    JNJ           0          0.4974\n",
      "18    IBM           0          0.4971\n",
      "28   AMGN           0          0.4965\n",
      "3       V           0          0.4909\n",
      "1      BA           0          0.4812\n",
      "10    CAT           0          0.4795\n",
      "14   MSFT           0          0.4719\n",
      "24   TSLA           0          0.4601\n",
      "7    COST           0          0.4277\n",
      "22   NFLX           0          0.4197\n",
      "29     MA           0          0.4091\n"
     ]
    }
   ],
   "source": [
    "import pandas as pd\n",
    "import os\n",
    "import glob\n",
    "\n",
    "predictions = []\n",
    "\n",
    "# Loop through all stock CSVs\n",
    "for file_path in glob.glob('stock_features/*.csv'):\n",
    "    stock_name = os.path.basename(file_path).replace('.csv', '')\n",
    "    \n",
    "    try:\n",
    "        df = pd.read_csv(file_path)\n",
    "        df = df.dropna()\n",
    "\n",
    "        # Get the same features used in training\n",
    "        X_stock = df[model.feature_names_in_]\n",
    "        \n",
    "        # Select the latest row (for next-day prediction)\n",
    "        latest_row = X_stock.iloc[-1:]\n",
    "        \n",
    "        # Predict\n",
    "        pred_class = model.predict(latest_row)[0]\n",
    "        pred_proba = model.predict_proba(latest_row)[0][1]  # Probability of 'Up'\n",
    "\n",
    "        # Store result\n",
    "        predictions.append({\n",
    "            'Stock': stock_name,\n",
    "            'Prediction': int(pred_class),\n",
    "            'Probability_Up': round(pred_proba, 4)\n",
    "        })\n",
    "    \n",
    "    except Exception as e:\n",
    "        print(f\"Error processing {stock_name}: {e}\")\n",
    "\n",
    "# Convert to DataFrame and sort by confidence\n",
    "results_df = pd.DataFrame(predictions).sort_values(by='Probability_Up', ascending=False)\n",
    "\n",
    "# Show top N stocks likely to go up\n",
    "print(results_df.head(33))\n"
   ]
  }
 ],
 "metadata": {
  "kernelspec": {
   "display_name": "env1",
   "language": "python",
   "name": "python3"
  },
  "language_info": {
   "codemirror_mode": {
    "name": "ipython",
    "version": 3
   },
   "file_extension": ".py",
   "mimetype": "text/x-python",
   "name": "python",
   "nbconvert_exporter": "python",
   "pygments_lexer": "ipython3",
   "version": "3.10.18"
  }
 },
 "nbformat": 4,
 "nbformat_minor": 5
}
